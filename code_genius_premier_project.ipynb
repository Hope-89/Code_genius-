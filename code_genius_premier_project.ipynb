{
 "cells": [
  {
   "cell_type": "code",
   "execution_count": 1,
   "id": "bcd261ed-8f3b-461c-8efe-ee7c8d728b46",
   "metadata": {
    "tags": []
   },
   "outputs": [],
   "source": [
    "import pandas as pd\n",
    "import numpy as np\n",
    "import matplotlib.pyplot as plt\n",
    "import seaborn as sns\n",
    "\n",
    "import warnings\n",
    "warnings.filterwarnings('ignore')"
   ]
  },
  {
   "cell_type": "code",
   "execution_count": 2,
   "id": "dc753f49-9e6f-4af0-8d4e-d838088513e6",
   "metadata": {
    "tags": []
   },
   "outputs": [],
   "source": [
    "cites_df = pd.read_csv('data/cites.csv')"
   ]
  },
  {
   "cell_type": "code",
   "execution_count": 3,
   "id": "fe8b3918-38d2-49cf-8d42-6ad7c5fdd378",
   "metadata": {
    "tags": []
   },
   "outputs": [
    {
     "data": {
      "text/html": [
       "<div>\n",
       "<style scoped>\n",
       "    .dataframe tbody tr th:only-of-type {\n",
       "        vertical-align: middle;\n",
       "    }\n",
       "\n",
       "    .dataframe tbody tr th {\n",
       "        vertical-align: top;\n",
       "    }\n",
       "\n",
       "    .dataframe thead th {\n",
       "        text-align: right;\n",
       "    }\n",
       "</style>\n",
       "<table border=\"1\" class=\"dataframe\">\n",
       "  <thead>\n",
       "    <tr style=\"text-align: right;\">\n",
       "      <th></th>\n",
       "      <th>Year</th>\n",
       "      <th>App.</th>\n",
       "      <th>Taxon</th>\n",
       "      <th>Class</th>\n",
       "      <th>Order</th>\n",
       "      <th>Family</th>\n",
       "      <th>Genus</th>\n",
       "      <th>Importer</th>\n",
       "      <th>Exporter</th>\n",
       "      <th>Origin</th>\n",
       "      <th>Importer reported quantity</th>\n",
       "      <th>Exporter reported quantity</th>\n",
       "      <th>Term</th>\n",
       "      <th>Unit</th>\n",
       "      <th>Purpose</th>\n",
       "      <th>Source</th>\n",
       "    </tr>\n",
       "  </thead>\n",
       "  <tbody>\n",
       "    <tr>\n",
       "      <th>0</th>\n",
       "      <td>2016</td>\n",
       "      <td>I</td>\n",
       "      <td>Aquila heliaca</td>\n",
       "      <td>Aves</td>\n",
       "      <td>Falconiformes</td>\n",
       "      <td>Accipitridae</td>\n",
       "      <td>Aquila</td>\n",
       "      <td>TR</td>\n",
       "      <td>NL</td>\n",
       "      <td>CZ</td>\n",
       "      <td>NaN</td>\n",
       "      <td>1.0</td>\n",
       "      <td>bodies</td>\n",
       "      <td>NaN</td>\n",
       "      <td>T</td>\n",
       "      <td>C</td>\n",
       "    </tr>\n",
       "    <tr>\n",
       "      <th>1</th>\n",
       "      <td>2016</td>\n",
       "      <td>I</td>\n",
       "      <td>Aquila heliaca</td>\n",
       "      <td>Aves</td>\n",
       "      <td>Falconiformes</td>\n",
       "      <td>Accipitridae</td>\n",
       "      <td>Aquila</td>\n",
       "      <td>XV</td>\n",
       "      <td>RS</td>\n",
       "      <td>RS</td>\n",
       "      <td>NaN</td>\n",
       "      <td>1.0</td>\n",
       "      <td>bodies</td>\n",
       "      <td>NaN</td>\n",
       "      <td>Q</td>\n",
       "      <td>O</td>\n",
       "    </tr>\n",
       "    <tr>\n",
       "      <th>2</th>\n",
       "      <td>2016</td>\n",
       "      <td>I</td>\n",
       "      <td>Haliaeetus albicilla</td>\n",
       "      <td>Aves</td>\n",
       "      <td>Falconiformes</td>\n",
       "      <td>Accipitridae</td>\n",
       "      <td>Haliaeetus</td>\n",
       "      <td>BE</td>\n",
       "      <td>NO</td>\n",
       "      <td>NaN</td>\n",
       "      <td>NaN</td>\n",
       "      <td>43.0</td>\n",
       "      <td>feathers</td>\n",
       "      <td>NaN</td>\n",
       "      <td>S</td>\n",
       "      <td>W</td>\n",
       "    </tr>\n",
       "    <tr>\n",
       "      <th>3</th>\n",
       "      <td>2016</td>\n",
       "      <td>I</td>\n",
       "      <td>Haliaeetus albicilla</td>\n",
       "      <td>Aves</td>\n",
       "      <td>Falconiformes</td>\n",
       "      <td>Accipitridae</td>\n",
       "      <td>Haliaeetus</td>\n",
       "      <td>BE</td>\n",
       "      <td>NO</td>\n",
       "      <td>NaN</td>\n",
       "      <td>NaN</td>\n",
       "      <td>43.0</td>\n",
       "      <td>specimens</td>\n",
       "      <td>NaN</td>\n",
       "      <td>S</td>\n",
       "      <td>W</td>\n",
       "    </tr>\n",
       "    <tr>\n",
       "      <th>4</th>\n",
       "      <td>2016</td>\n",
       "      <td>I</td>\n",
       "      <td>Haliaeetus albicilla</td>\n",
       "      <td>Aves</td>\n",
       "      <td>Falconiformes</td>\n",
       "      <td>Accipitridae</td>\n",
       "      <td>Haliaeetus</td>\n",
       "      <td>DK</td>\n",
       "      <td>IS</td>\n",
       "      <td>NaN</td>\n",
       "      <td>700.0</td>\n",
       "      <td>NaN</td>\n",
       "      <td>specimens</td>\n",
       "      <td>NaN</td>\n",
       "      <td>S</td>\n",
       "      <td>W</td>\n",
       "    </tr>\n",
       "    <tr>\n",
       "      <th>...</th>\n",
       "      <td>...</td>\n",
       "      <td>...</td>\n",
       "      <td>...</td>\n",
       "      <td>...</td>\n",
       "      <td>...</td>\n",
       "      <td>...</td>\n",
       "      <td>...</td>\n",
       "      <td>...</td>\n",
       "      <td>...</td>\n",
       "      <td>...</td>\n",
       "      <td>...</td>\n",
       "      <td>...</td>\n",
       "      <td>...</td>\n",
       "      <td>...</td>\n",
       "      <td>...</td>\n",
       "      <td>...</td>\n",
       "    </tr>\n",
       "    <tr>\n",
       "      <th>67156</th>\n",
       "      <td>2017</td>\n",
       "      <td>III</td>\n",
       "      <td>Canis aureus</td>\n",
       "      <td>Mammalia</td>\n",
       "      <td>Carnivora</td>\n",
       "      <td>Canidae</td>\n",
       "      <td>Canis</td>\n",
       "      <td>US</td>\n",
       "      <td>ET</td>\n",
       "      <td>NaN</td>\n",
       "      <td>NaN</td>\n",
       "      <td>7.0</td>\n",
       "      <td>trophies</td>\n",
       "      <td>NaN</td>\n",
       "      <td>H</td>\n",
       "      <td>W</td>\n",
       "    </tr>\n",
       "    <tr>\n",
       "      <th>67157</th>\n",
       "      <td>2017</td>\n",
       "      <td>III</td>\n",
       "      <td>Sarcoramphus papa</td>\n",
       "      <td>Aves</td>\n",
       "      <td>Falconiformes</td>\n",
       "      <td>Cathartidae</td>\n",
       "      <td>Sarcoramphus</td>\n",
       "      <td>JP</td>\n",
       "      <td>PE</td>\n",
       "      <td>NaN</td>\n",
       "      <td>NaN</td>\n",
       "      <td>2.0</td>\n",
       "      <td>live</td>\n",
       "      <td>NaN</td>\n",
       "      <td>T</td>\n",
       "      <td>F</td>\n",
       "    </tr>\n",
       "    <tr>\n",
       "      <th>67158</th>\n",
       "      <td>2017</td>\n",
       "      <td>III</td>\n",
       "      <td>Daboia russelii</td>\n",
       "      <td>Reptilia</td>\n",
       "      <td>Serpentes</td>\n",
       "      <td>Viperidae</td>\n",
       "      <td>Daboia</td>\n",
       "      <td>RS</td>\n",
       "      <td>IT</td>\n",
       "      <td>US</td>\n",
       "      <td>200.0</td>\n",
       "      <td>NaN</td>\n",
       "      <td>specimens</td>\n",
       "      <td>NaN</td>\n",
       "      <td>T</td>\n",
       "      <td>F</td>\n",
       "    </tr>\n",
       "    <tr>\n",
       "      <th>67159</th>\n",
       "      <td>2017</td>\n",
       "      <td>III</td>\n",
       "      <td>Civettictis civetta</td>\n",
       "      <td>Mammalia</td>\n",
       "      <td>Carnivora</td>\n",
       "      <td>Viverridae</td>\n",
       "      <td>Civettictis</td>\n",
       "      <td>FR</td>\n",
       "      <td>ET</td>\n",
       "      <td>NaN</td>\n",
       "      <td>NaN</td>\n",
       "      <td>635.1</td>\n",
       "      <td>musk</td>\n",
       "      <td>kg</td>\n",
       "      <td>T</td>\n",
       "      <td>R</td>\n",
       "    </tr>\n",
       "    <tr>\n",
       "      <th>67160</th>\n",
       "      <td>2017</td>\n",
       "      <td>III</td>\n",
       "      <td>Civettictis civetta</td>\n",
       "      <td>Mammalia</td>\n",
       "      <td>Carnivora</td>\n",
       "      <td>Viverridae</td>\n",
       "      <td>Civettictis</td>\n",
       "      <td>KR</td>\n",
       "      <td>ET</td>\n",
       "      <td>NaN</td>\n",
       "      <td>NaN</td>\n",
       "      <td>480.0</td>\n",
       "      <td>musk</td>\n",
       "      <td>kg</td>\n",
       "      <td>T</td>\n",
       "      <td>R</td>\n",
       "    </tr>\n",
       "  </tbody>\n",
       "</table>\n",
       "<p>67161 rows × 16 columns</p>\n",
       "</div>"
      ],
      "text/plain": [
       "       Year App.                 Taxon     Class          Order        Family  \\\n",
       "0      2016    I        Aquila heliaca      Aves  Falconiformes  Accipitridae   \n",
       "1      2016    I        Aquila heliaca      Aves  Falconiformes  Accipitridae   \n",
       "2      2016    I  Haliaeetus albicilla      Aves  Falconiformes  Accipitridae   \n",
       "3      2016    I  Haliaeetus albicilla      Aves  Falconiformes  Accipitridae   \n",
       "4      2016    I  Haliaeetus albicilla      Aves  Falconiformes  Accipitridae   \n",
       "...     ...  ...                   ...       ...            ...           ...   \n",
       "67156  2017  III          Canis aureus  Mammalia      Carnivora       Canidae   \n",
       "67157  2017  III     Sarcoramphus papa      Aves  Falconiformes   Cathartidae   \n",
       "67158  2017  III       Daboia russelii  Reptilia      Serpentes     Viperidae   \n",
       "67159  2017  III   Civettictis civetta  Mammalia      Carnivora    Viverridae   \n",
       "67160  2017  III   Civettictis civetta  Mammalia      Carnivora    Viverridae   \n",
       "\n",
       "              Genus Importer Exporter Origin  Importer reported quantity  \\\n",
       "0            Aquila       TR       NL     CZ                         NaN   \n",
       "1            Aquila       XV       RS     RS                         NaN   \n",
       "2        Haliaeetus       BE       NO    NaN                         NaN   \n",
       "3        Haliaeetus       BE       NO    NaN                         NaN   \n",
       "4        Haliaeetus       DK       IS    NaN                       700.0   \n",
       "...             ...      ...      ...    ...                         ...   \n",
       "67156         Canis       US       ET    NaN                         NaN   \n",
       "67157  Sarcoramphus       JP       PE    NaN                         NaN   \n",
       "67158        Daboia       RS       IT     US                       200.0   \n",
       "67159   Civettictis       FR       ET    NaN                         NaN   \n",
       "67160   Civettictis       KR       ET    NaN                         NaN   \n",
       "\n",
       "       Exporter reported quantity       Term Unit Purpose Source  \n",
       "0                             1.0     bodies  NaN       T      C  \n",
       "1                             1.0     bodies  NaN       Q      O  \n",
       "2                            43.0   feathers  NaN       S      W  \n",
       "3                            43.0  specimens  NaN       S      W  \n",
       "4                             NaN  specimens  NaN       S      W  \n",
       "...                           ...        ...  ...     ...    ...  \n",
       "67156                         7.0   trophies  NaN       H      W  \n",
       "67157                         2.0       live  NaN       T      F  \n",
       "67158                         NaN  specimens  NaN       T      F  \n",
       "67159                       635.1       musk   kg       T      R  \n",
       "67160                       480.0       musk   kg       T      R  \n",
       "\n",
       "[67161 rows x 16 columns]"
      ]
     },
     "execution_count": 3,
     "metadata": {},
     "output_type": "execute_result"
    }
   ],
   "source": [
    "cites_df"
   ]
  },
  {
   "cell_type": "code",
   "execution_count": 4,
   "id": "576e0862-5694-49bd-8446-85e0c7851329",
   "metadata": {
    "tags": []
   },
   "outputs": [
    {
     "data": {
      "text/html": [
       "<div>\n",
       "<style scoped>\n",
       "    .dataframe tbody tr th:only-of-type {\n",
       "        vertical-align: middle;\n",
       "    }\n",
       "\n",
       "    .dataframe tbody tr th {\n",
       "        vertical-align: top;\n",
       "    }\n",
       "\n",
       "    .dataframe thead th {\n",
       "        text-align: right;\n",
       "    }\n",
       "</style>\n",
       "<table border=\"1\" class=\"dataframe\">\n",
       "  <thead>\n",
       "    <tr style=\"text-align: right;\">\n",
       "      <th></th>\n",
       "      <th>count</th>\n",
       "      <th>mean</th>\n",
       "      <th>std</th>\n",
       "      <th>min</th>\n",
       "      <th>25%</th>\n",
       "      <th>50%</th>\n",
       "      <th>75%</th>\n",
       "      <th>max</th>\n",
       "    </tr>\n",
       "  </thead>\n",
       "  <tbody>\n",
       "    <tr>\n",
       "      <th>Year</th>\n",
       "      <td>67161.0</td>\n",
       "      <td>2016.002293</td>\n",
       "      <td>0.047831</td>\n",
       "      <td>2016.000000</td>\n",
       "      <td>2016.0</td>\n",
       "      <td>2016.0</td>\n",
       "      <td>2016.0</td>\n",
       "      <td>2017.0</td>\n",
       "    </tr>\n",
       "    <tr>\n",
       "      <th>Importer reported quantity</th>\n",
       "      <td>31866.0</td>\n",
       "      <td>4382.425368</td>\n",
       "      <td>144910.274235</td>\n",
       "      <td>0.000000</td>\n",
       "      <td>3.0</td>\n",
       "      <td>12.0</td>\n",
       "      <td>80.0</td>\n",
       "      <td>19524978.0</td>\n",
       "    </tr>\n",
       "    <tr>\n",
       "      <th>Exporter reported quantity</th>\n",
       "      <td>44021.0</td>\n",
       "      <td>4443.878401</td>\n",
       "      <td>157379.356988</td>\n",
       "      <td>0.000002</td>\n",
       "      <td>2.0</td>\n",
       "      <td>12.0</td>\n",
       "      <td>82.0</td>\n",
       "      <td>21543618.0</td>\n",
       "    </tr>\n",
       "  </tbody>\n",
       "</table>\n",
       "</div>"
      ],
      "text/plain": [
       "                              count         mean            std          min  \\\n",
       "Year                        67161.0  2016.002293       0.047831  2016.000000   \n",
       "Importer reported quantity  31866.0  4382.425368  144910.274235     0.000000   \n",
       "Exporter reported quantity  44021.0  4443.878401  157379.356988     0.000002   \n",
       "\n",
       "                               25%     50%     75%         max  \n",
       "Year                        2016.0  2016.0  2016.0      2017.0  \n",
       "Importer reported quantity     3.0    12.0    80.0  19524978.0  \n",
       "Exporter reported quantity     2.0    12.0    82.0  21543618.0  "
      ]
     },
     "execution_count": 4,
     "metadata": {},
     "output_type": "execute_result"
    }
   ],
   "source": [
    "cites_df.describe().T"
   ]
  },
  {
   "cell_type": "code",
   "execution_count": 5,
   "id": "5c722880-683c-4220-aa67-e50ca3845a01",
   "metadata": {
    "tags": []
   },
   "outputs": [
    {
     "name": "stdout",
     "output_type": "stream",
     "text": [
      "<class 'pandas.core.frame.DataFrame'>\n",
      "RangeIndex: 67161 entries, 0 to 67160\n",
      "Data columns (total 16 columns):\n",
      " #   Column                      Non-Null Count  Dtype  \n",
      "---  ------                      --------------  -----  \n",
      " 0   Year                        67161 non-null  int64  \n",
      " 1   App.                        67161 non-null  object \n",
      " 2   Taxon                       67161 non-null  object \n",
      " 3   Class                       46937 non-null  object \n",
      " 4   Order                       67104 non-null  object \n",
      " 5   Family                      66700 non-null  object \n",
      " 6   Genus                       65702 non-null  object \n",
      " 7   Importer                    67090 non-null  object \n",
      " 8   Exporter                    66588 non-null  object \n",
      " 9   Origin                      25643 non-null  object \n",
      " 10  Importer reported quantity  31866 non-null  float64\n",
      " 11  Exporter reported quantity  44021 non-null  float64\n",
      " 12  Term                        67161 non-null  object \n",
      " 13  Unit                        6402 non-null   object \n",
      " 14  Purpose                     61102 non-null  object \n",
      " 15  Source                      66617 non-null  object \n",
      "dtypes: float64(2), int64(1), object(13)\n",
      "memory usage: 8.2+ MB\n"
     ]
    }
   ],
   "source": [
    "cites_df.info()"
   ]
  },
  {
   "cell_type": "code",
   "execution_count": 6,
   "id": "19e4a3fb-db83-445d-ad70-2223adb59955",
   "metadata": {
    "tags": []
   },
   "outputs": [
    {
     "data": {
      "text/plain": [
       "Year                              0\n",
       "App.                              0\n",
       "Taxon                             0\n",
       "Class                         20224\n",
       "Order                            57\n",
       "Family                          461\n",
       "Genus                          1459\n",
       "Importer                         71\n",
       "Exporter                        573\n",
       "Origin                        41518\n",
       "Importer reported quantity    35295\n",
       "Exporter reported quantity    23140\n",
       "Term                              0\n",
       "Unit                          60759\n",
       "Purpose                        6059\n",
       "Source                          544\n",
       "dtype: int64"
      ]
     },
     "execution_count": 6,
     "metadata": {},
     "output_type": "execute_result"
    }
   ],
   "source": [
    "cites_df.isna().sum()"
   ]
  },
  {
   "cell_type": "code",
   "execution_count": 7,
   "id": "01ea295f-221e-4765-b5ec-49d56b8a285f",
   "metadata": {
    "tags": []
   },
   "outputs": [
    {
     "data": {
      "text/plain": [
       "(67161, 16)"
      ]
     },
     "execution_count": 7,
     "metadata": {},
     "output_type": "execute_result"
    }
   ],
   "source": [
    "cites_df.shape"
   ]
  },
  {
   "cell_type": "code",
   "execution_count": 8,
   "id": "653f82d1-81ad-480d-9d0b-cc522d25b7d4",
   "metadata": {
    "tags": []
   },
   "outputs": [
    {
     "data": {
      "text/plain": [
       "Term\n",
       "live                        33862\n",
       "leather products (small)    10106\n",
       "specimens                    2852\n",
       "skins                        2271\n",
       "raw corals                   1903\n",
       "trophies                     1603\n",
       "garments                     1456\n",
       "caviar                       1206\n",
       "extract                       965\n",
       "bodies                        915\n",
       "leather products (large)      866\n",
       "skin pieces                   748\n",
       "carvings                      693\n",
       "ivory carvings                540\n",
       "derivatives                   454\n",
       "skulls                        396\n",
       "jewellery                     386\n",
       "medicine                      380\n",
       "roots                         353\n",
       "feathers                      336\n",
       "Name: count, dtype: int64"
      ]
     },
     "execution_count": 8,
     "metadata": {},
     "output_type": "execute_result"
    }
   ],
   "source": [
    "# top 20 count of each value in Term\n",
    "cites_df['Term'].value_counts()[:20]"
   ]
  },
  {
   "cell_type": "code",
   "execution_count": 9,
   "id": "42e8fd44-8c6c-4c2a-8d3a-56e2f504184d",
   "metadata": {
    "tags": []
   },
   "outputs": [
    {
     "data": {
      "text/plain": [
       "<Axes: xlabel='Term'>"
      ]
     },
     "execution_count": 9,
     "metadata": {},
     "output_type": "execute_result"
    },
    {
     "data": {
      "image/png": "[encoded data removed]",
      "text/plain": [
       "<Figure size 640x480 with 1 Axes>"
      ]
     },
     "metadata": {},
     "output_type": "display_data"
    }
   ],
   "source": [
    "# visualize the count in a chart\n",
    "cites_df['Term'].value_counts()[:20].plot(kind='bar')"
   ]
  },
  {
   "cell_type": "code",
   "execution_count": 10,
   "id": "2099b4f0-6500-47c3-8f5a-564012604f92",
   "metadata": {
    "tags": []
   },
   "outputs": [
    {
     "data": {
      "text/plain": [
       "(array([ 0,  1,  2,  3,  4,  5,  6,  7,  8,  9, 10, 11]),\n",
       " [Text(0, 0, 'T'),\n",
       "  Text(1, 0, 'P'),\n",
       "  Text(2, 0, 'S'),\n",
       "  Text(3, 0, 'H'),\n",
       "  Text(4, 0, 'Q'),\n",
       "  Text(5, 0, 'M'),\n",
       "  Text(6, 0, 'Z'),\n",
       "  Text(7, 0, 'B'),\n",
       "  Text(8, 0, 'E'),\n",
       "  Text(9, 0, 'G'),\n",
       "  Text(10, 0, 'L'),\n",
       "  Text(11, 0, 'N')])"
      ]
     },
     "execution_count": 10,
     "metadata": {},
     "output_type": "execute_result"
    },
    {
     "data": {
      "image/png": "[encoded data removed]",
      "text/plain": [
       "<Figure size 640x480 with 1 Axes>"
      ]
     },
     "metadata": {},
     "output_type": "display_data"
    }
   ],
   "source": [
    "# visualize the count in a chart\n",
    "cites_df['Purpose'].value_counts()[:20].plot(kind='bar')\n",
    "plt.xticks(rotation=0)"
   ]
  },
  {
   "cell_type": "code",
   "execution_count": 11,
   "id": "351d6e78-2282-4c8c-ad98-db9ef82592a9",
   "metadata": {},
   "outputs": [
    {
     "data": {
      "text/html": [
       "<div>\n",
       "<style scoped>\n",
       "    .dataframe tbody tr th:only-of-type {\n",
       "        vertical-align: middle;\n",
       "    }\n",
       "\n",
       "    .dataframe tbody tr th {\n",
       "        vertical-align: top;\n",
       "    }\n",
       "\n",
       "    .dataframe thead th {\n",
       "        text-align: right;\n",
       "    }\n",
       "</style>\n",
       "<table border=\"1\" class=\"dataframe\">\n",
       "  <thead>\n",
       "    <tr style=\"text-align: right;\">\n",
       "      <th></th>\n",
       "      <th>Year</th>\n",
       "      <th>App.</th>\n",
       "      <th>Taxon</th>\n",
       "      <th>Class</th>\n",
       "      <th>Order</th>\n",
       "      <th>Family</th>\n",
       "      <th>Genus</th>\n",
       "      <th>Importer</th>\n",
       "      <th>Exporter</th>\n",
       "      <th>Origin</th>\n",
       "      <th>Importer reported quantity</th>\n",
       "      <th>Exporter reported quantity</th>\n",
       "      <th>Term</th>\n",
       "      <th>Unit</th>\n",
       "      <th>Purpose</th>\n",
       "      <th>Source</th>\n",
       "    </tr>\n",
       "  </thead>\n",
       "  <tbody>\n",
       "    <tr>\n",
       "      <th>24</th>\n",
       "      <td>2016</td>\n",
       "      <td>I</td>\n",
       "      <td>Asarcornis scutulata</td>\n",
       "      <td>Aves</td>\n",
       "      <td>Anseriformes</td>\n",
       "      <td>Anatidae</td>\n",
       "      <td>Asarcornis</td>\n",
       "      <td>GB</td>\n",
       "      <td>JE</td>\n",
       "      <td>GB</td>\n",
       "      <td>1.0</td>\n",
       "      <td>1.0</td>\n",
       "      <td>bodies</td>\n",
       "      <td>NaN</td>\n",
       "      <td>S</td>\n",
       "      <td>C</td>\n",
       "    </tr>\n",
       "    <tr>\n",
       "      <th>25</th>\n",
       "      <td>2016</td>\n",
       "      <td>I</td>\n",
       "      <td>Asarcornis scutulata</td>\n",
       "      <td>Aves</td>\n",
       "      <td>Anseriformes</td>\n",
       "      <td>Anatidae</td>\n",
       "      <td>Asarcornis</td>\n",
       "      <td>GB</td>\n",
       "      <td>JE</td>\n",
       "      <td>NaN</td>\n",
       "      <td>1.0</td>\n",
       "      <td>2.0</td>\n",
       "      <td>bodies</td>\n",
       "      <td>NaN</td>\n",
       "      <td>S</td>\n",
       "      <td>C</td>\n",
       "    </tr>\n",
       "    <tr>\n",
       "      <th>33</th>\n",
       "      <td>2016</td>\n",
       "      <td>I</td>\n",
       "      <td>Pachypodium baronii</td>\n",
       "      <td>NaN</td>\n",
       "      <td>Gentianales</td>\n",
       "      <td>Apocynaceae</td>\n",
       "      <td>Pachypodium</td>\n",
       "      <td>JP</td>\n",
       "      <td>NL</td>\n",
       "      <td>NaN</td>\n",
       "      <td>1.0</td>\n",
       "      <td>1.0</td>\n",
       "      <td>live</td>\n",
       "      <td>NaN</td>\n",
       "      <td>T</td>\n",
       "      <td>D</td>\n",
       "    </tr>\n",
       "    <tr>\n",
       "      <th>43</th>\n",
       "      <td>2016</td>\n",
       "      <td>I</td>\n",
       "      <td>Araucaria araucana</td>\n",
       "      <td>NaN</td>\n",
       "      <td>Pinales</td>\n",
       "      <td>Araucariaceae</td>\n",
       "      <td>Araucaria</td>\n",
       "      <td>US</td>\n",
       "      <td>NL</td>\n",
       "      <td>GB</td>\n",
       "      <td>19.0</td>\n",
       "      <td>10.0</td>\n",
       "      <td>seeds</td>\n",
       "      <td>kg</td>\n",
       "      <td>T</td>\n",
       "      <td>D</td>\n",
       "    </tr>\n",
       "    <tr>\n",
       "      <th>45</th>\n",
       "      <td>2016</td>\n",
       "      <td>I</td>\n",
       "      <td>Oreonax flavicauda</td>\n",
       "      <td>Mammalia</td>\n",
       "      <td>Primates</td>\n",
       "      <td>Atelidae</td>\n",
       "      <td>Oreonax</td>\n",
       "      <td>DE</td>\n",
       "      <td>PE</td>\n",
       "      <td>NaN</td>\n",
       "      <td>70.0</td>\n",
       "      <td>50.0</td>\n",
       "      <td>specimens</td>\n",
       "      <td>NaN</td>\n",
       "      <td>S</td>\n",
       "      <td>W</td>\n",
       "    </tr>\n",
       "    <tr>\n",
       "      <th>...</th>\n",
       "      <td>...</td>\n",
       "      <td>...</td>\n",
       "      <td>...</td>\n",
       "      <td>...</td>\n",
       "      <td>...</td>\n",
       "      <td>...</td>\n",
       "      <td>...</td>\n",
       "      <td>...</td>\n",
       "      <td>...</td>\n",
       "      <td>...</td>\n",
       "      <td>...</td>\n",
       "      <td>...</td>\n",
       "      <td>...</td>\n",
       "      <td>...</td>\n",
       "      <td>...</td>\n",
       "      <td>...</td>\n",
       "    </tr>\n",
       "    <tr>\n",
       "      <th>66774</th>\n",
       "      <td>2016</td>\n",
       "      <td>III</td>\n",
       "      <td>Civettictis civetta</td>\n",
       "      <td>Mammalia</td>\n",
       "      <td>Carnivora</td>\n",
       "      <td>Viverridae</td>\n",
       "      <td>Civettictis</td>\n",
       "      <td>JP</td>\n",
       "      <td>FR</td>\n",
       "      <td>ET</td>\n",
       "      <td>0.3</td>\n",
       "      <td>1.9</td>\n",
       "      <td>extract</td>\n",
       "      <td>kg</td>\n",
       "      <td>T</td>\n",
       "      <td>W</td>\n",
       "    </tr>\n",
       "    <tr>\n",
       "      <th>66794</th>\n",
       "      <td>2016</td>\n",
       "      <td>III</td>\n",
       "      <td>Civettictis civetta</td>\n",
       "      <td>Mammalia</td>\n",
       "      <td>Carnivora</td>\n",
       "      <td>Viverridae</td>\n",
       "      <td>Civettictis</td>\n",
       "      <td>US</td>\n",
       "      <td>FR</td>\n",
       "      <td>ET</td>\n",
       "      <td>4.0</td>\n",
       "      <td>3.5</td>\n",
       "      <td>extract</td>\n",
       "      <td>kg</td>\n",
       "      <td>T</td>\n",
       "      <td>W</td>\n",
       "    </tr>\n",
       "    <tr>\n",
       "      <th>66803</th>\n",
       "      <td>2016</td>\n",
       "      <td>III</td>\n",
       "      <td>Civettictis civetta</td>\n",
       "      <td>Mammalia</td>\n",
       "      <td>Carnivora</td>\n",
       "      <td>Viverridae</td>\n",
       "      <td>Civettictis</td>\n",
       "      <td>US</td>\n",
       "      <td>ZM</td>\n",
       "      <td>NaN</td>\n",
       "      <td>2.0</td>\n",
       "      <td>4.0</td>\n",
       "      <td>trophies</td>\n",
       "      <td>NaN</td>\n",
       "      <td>H</td>\n",
       "      <td>W</td>\n",
       "    </tr>\n",
       "    <tr>\n",
       "      <th>66805</th>\n",
       "      <td>2016</td>\n",
       "      <td>III</td>\n",
       "      <td>Civettictis civetta</td>\n",
       "      <td>Mammalia</td>\n",
       "      <td>Carnivora</td>\n",
       "      <td>Viverridae</td>\n",
       "      <td>Civettictis</td>\n",
       "      <td>US</td>\n",
       "      <td>ZW</td>\n",
       "      <td>NaN</td>\n",
       "      <td>1.0</td>\n",
       "      <td>1.0</td>\n",
       "      <td>skulls</td>\n",
       "      <td>NaN</td>\n",
       "      <td>H</td>\n",
       "      <td>W</td>\n",
       "    </tr>\n",
       "    <tr>\n",
       "      <th>66806</th>\n",
       "      <td>2016</td>\n",
       "      <td>III</td>\n",
       "      <td>Civettictis civetta</td>\n",
       "      <td>Mammalia</td>\n",
       "      <td>Carnivora</td>\n",
       "      <td>Viverridae</td>\n",
       "      <td>Civettictis</td>\n",
       "      <td>US</td>\n",
       "      <td>ZW</td>\n",
       "      <td>NaN</td>\n",
       "      <td>17.0</td>\n",
       "      <td>13.0</td>\n",
       "      <td>trophies</td>\n",
       "      <td>NaN</td>\n",
       "      <td>H</td>\n",
       "      <td>W</td>\n",
       "    </tr>\n",
       "  </tbody>\n",
       "</table>\n",
       "<p>8726 rows × 16 columns</p>\n",
       "</div>"
      ],
      "text/plain": [
       "       Year App.                 Taxon     Class         Order         Family  \\\n",
       "24     2016    I  Asarcornis scutulata      Aves  Anseriformes       Anatidae   \n",
       "25     2016    I  Asarcornis scutulata      Aves  Anseriformes       Anatidae   \n",
       "33     2016    I   Pachypodium baronii       NaN   Gentianales    Apocynaceae   \n",
       "43     2016    I    Araucaria araucana       NaN       Pinales  Araucariaceae   \n",
       "45     2016    I    Oreonax flavicauda  Mammalia      Primates       Atelidae   \n",
       "...     ...  ...                   ...       ...           ...            ...   \n",
       "66774  2016  III   Civettictis civetta  Mammalia     Carnivora     Viverridae   \n",
       "66794  2016  III   Civettictis civetta  Mammalia     Carnivora     Viverridae   \n",
       "66803  2016  III   Civettictis civetta  Mammalia     Carnivora     Viverridae   \n",
       "66805  2016  III   Civettictis civetta  Mammalia     Carnivora     Viverridae   \n",
       "66806  2016  III   Civettictis civetta  Mammalia     Carnivora     Viverridae   \n",
       "\n",
       "             Genus Importer Exporter Origin  Importer reported quantity  \\\n",
       "24      Asarcornis       GB       JE     GB                         1.0   \n",
       "25      Asarcornis       GB       JE    NaN                         1.0   \n",
       "33     Pachypodium       JP       NL    NaN                         1.0   \n",
       "43       Araucaria       US       NL     GB                        19.0   \n",
       "45         Oreonax       DE       PE    NaN                        70.0   \n",
       "...            ...      ...      ...    ...                         ...   \n",
       "66774  Civettictis       JP       FR     ET                         0.3   \n",
       "66794  Civettictis       US       FR     ET                         4.0   \n",
       "66803  Civettictis       US       ZM    NaN                         2.0   \n",
       "66805  Civettictis       US       ZW    NaN                         1.0   \n",
       "66806  Civettictis       US       ZW    NaN                        17.0   \n",
       "\n",
       "       Exporter reported quantity       Term Unit Purpose Source  \n",
       "24                            1.0     bodies  NaN       S      C  \n",
       "25                            2.0     bodies  NaN       S      C  \n",
       "33                            1.0       live  NaN       T      D  \n",
       "43                           10.0      seeds   kg       T      D  \n",
       "45                           50.0  specimens  NaN       S      W  \n",
       "...                           ...        ...  ...     ...    ...  \n",
       "66774                         1.9    extract   kg       T      W  \n",
       "66794                         3.5    extract   kg       T      W  \n",
       "66803                         4.0   trophies  NaN       H      W  \n",
       "66805                         1.0     skulls  NaN       H      W  \n",
       "66806                        13.0   trophies  NaN       H      W  \n",
       "\n",
       "[8726 rows x 16 columns]"
      ]
     },
     "execution_count": 11,
     "metadata": {},
     "output_type": "execute_result"
    }
   ],
   "source": [
    "temp_df = cites_df[~cites_df['Importer reported quantity'].isna() & ~cites_df['Exporter reported quantity'].isna()]\n",
    "temp_df"
   ]
  },
  {
   "cell_type": "code",
   "execution_count": 12,
   "id": "54599b80-e206-4a21-8b4f-8b96daded187",
   "metadata": {
    "tags": []
   },
   "outputs": [],
   "source": [
    "corr_df=temp_df.select_dtypes(include=['int64', 'float'])"
   ]
  },
  {
   "cell_type": "code",
   "execution_count": 13,
   "id": "4436914a-3db6-4a7f-8d9a-195328bcf23d",
   "metadata": {
    "tags": []
   },
   "outputs": [
    {
     "data": {
      "text/html": [
       "<div>\n",
       "<style scoped>\n",
       "    .dataframe tbody tr th:only-of-type {\n",
       "        vertical-align: middle;\n",
       "    }\n",
       "\n",
       "    .dataframe tbody tr th {\n",
       "        vertical-align: top;\n",
       "    }\n",
       "\n",
       "    .dataframe thead th {\n",
       "        text-align: right;\n",
       "    }\n",
       "</style>\n",
       "<table border=\"1\" class=\"dataframe\">\n",
       "  <thead>\n",
       "    <tr style=\"text-align: right;\">\n",
       "      <th></th>\n",
       "      <th>Year</th>\n",
       "      <th>Importer reported quantity</th>\n",
       "      <th>Exporter reported quantity</th>\n",
       "    </tr>\n",
       "  </thead>\n",
       "  <tbody>\n",
       "    <tr>\n",
       "      <th>Year</th>\n",
       "      <td>NaN</td>\n",
       "      <td>NaN</td>\n",
       "      <td>NaN</td>\n",
       "    </tr>\n",
       "    <tr>\n",
       "      <th>Importer reported quantity</th>\n",
       "      <td>NaN</td>\n",
       "      <td>1.000000</td>\n",
       "      <td>0.509213</td>\n",
       "    </tr>\n",
       "    <tr>\n",
       "      <th>Exporter reported quantity</th>\n",
       "      <td>NaN</td>\n",
       "      <td>0.509213</td>\n",
       "      <td>1.000000</td>\n",
       "    </tr>\n",
       "  </tbody>\n",
       "</table>\n",
       "</div>"
      ],
      "text/plain": [
       "                            Year  Importer reported quantity  \\\n",
       "Year                         NaN                         NaN   \n",
       "Importer reported quantity   NaN                    1.000000   \n",
       "Exporter reported quantity   NaN                    0.509213   \n",
       "\n",
       "                            Exporter reported quantity  \n",
       "Year                                               NaN  \n",
       "Importer reported quantity                    0.509213  \n",
       "Exporter reported quantity                    1.000000  "
      ]
     },
     "execution_count": 13,
     "metadata": {},
     "output_type": "execute_result"
    }
   ],
   "source": [
    "corr_df.corr()"
   ]
  },
  {
   "cell_type": "markdown",
   "id": "b8530b03-54e5-4812-8feb-ddb1a266c598",
   "metadata": {},
   "source": [
    "Converting the Purpose from categorical to numeric"
   ]
  },
  {
   "cell_type": "code",
   "execution_count": null,
   "id": "74065fce-3ae5-45a7-8858-3aa1f978839d",
   "metadata": {},
   "outputs": [],
   "source": [
    "p = {'T':0, 'P':1, 'H':2, 'S':3, 'M':4, 'Z':5, 'Q':6, 'B':7, 'E':8, 'G':9, 'N':10}\n",
    "temp_df['Purpose'] = temp_df['Purpose'].map(p).astype('int64')"
   ]
  },
  {
   "cell_type": "code",
   "execution_count": 15,
   "id": "6d8685c7-897a-42ff-873d-d6c56a2c78f1",
   "metadata": {
    "tags": []
   },
   "outputs": [
    {
     "data": {
      "text/plain": [
       "Purpose\n",
       "0     7567\n",
       "1      323\n",
       "2      291\n",
       "3      215\n",
       "4      123\n",
       "5      108\n",
       "6       53\n",
       "7       29\n",
       "8       14\n",
       "9        2\n",
       "10       1\n",
       "Name: count, dtype: int64"
      ]
     },
     "execution_count": 15,
     "metadata": {},
     "output_type": "execute_result"
    }
   ],
   "source": [
    "temp_df['Purpose'].unique()\n",
    "temp_df['Purpose'].value_counts()"
   ]
  },
  {
   "cell_type": "code",
   "execution_count": 18,
   "id": "24112bc2-5601-4d48-93fa-3f3c7bb61fe8",
   "metadata": {
    "tags": []
   },
   "outputs": [
    {
     "data": {
      "text/plain": [
       "<seaborn.axisgrid.FacetGrid at 0x23b0e05b5d0>"
      ]
     },
     "execution_count": 18,
     "metadata": {},
     "output_type": "execute_result"
    },
    {
     "data": {
      "image/png": "[encoded data removed]",
      "text/plain": [
       "<Figure size 900x300 with 3 Axes>"
      ]
     },
     "metadata": {},
     "output_type": "display_data"
    }
   ],
   "source": [
    "g = sns.FacetGrid(temp_df, col='App.')\n",
    "g.map(plt.hist, 'Importer reported quantity', bins=10 )\n",
    "#temp_df['App.'].value_counts()\n",
    "#clean_df = temp_df.drop(columns=[Order', 'Family', 'Genus', 'Unit', 'Origin'])"
   ]
  },
  {
   "cell_type": "code",
   "execution_count": 19,
   "id": "e9fe66d2-c9f0-49b5-952a-031083c8137e",
   "metadata": {
    "tags": []
   },
   "outputs": [
    {
     "data": {
      "text/plain": [
       "<seaborn.axisgrid.FacetGrid at 0x23b0d9c2bd0>"
      ]
     },
     "execution_count": 19,
     "metadata": {},
     "output_type": "execute_result"
    },
    {
     "data": {
      "image/png": "[encoded data removed]",
      "text/plain": [
       "<Figure size 900x300 with 3 Axes>"
      ]
     },
     "metadata": {},
     "output_type": "display_data"
    }
   ],
   "source": [
    "g = sns.FacetGrid(temp_df, col='App.')\n",
    "g.map(plt.hist, 'Exporter reported quantity', alpha=.5, bins=10 )"
   ]
  },
  {
   "cell_type": "code",
   "execution_count": 20,
   "id": "ee685ca0-64b5-439d-9312-8978cde1aebc",
   "metadata": {
    "tags": []
   },
   "outputs": [
    {
     "data": {
      "text/plain": [
       "<seaborn.axisgrid.FacetGrid at 0x23b0da0abd0>"
      ]
     },
     "execution_count": 20,
     "metadata": {},
     "output_type": "execute_result"
    },
    {
     "data": {
      "image/png": "[encoded data removed]",
      "text/plain": [
       "<Figure size 3300x300 with 11 Axes>"
      ]
     },
     "metadata": {},
     "output_type": "display_data"
    }
   ],
   "source": [
    "g = sns.FacetGrid(temp_df, col='Purpose')\n",
    "g.map(plt.hist, 'Importer reported quantity', bins=10 )"
   ]
  }
 ],
 "metadata": {
  "kernelspec": {
   "display_name": "Python 3 (ipykernel)",
   "language": "python",
   "name": "python3"
  },
  "language_info": {
   "codemirror_mode": {
    "name": "ipython",
    "version": 3
   },
   "file_extension": ".py",
   "mimetype": "text/x-python",
   "name": "python",
   "nbconvert_exporter": "python",
   "pygments_lexer": "ipython3",
   "version": "3.11.5"
  }
 },
 "nbformat": 4,
 "nbformat_minor": 5
}
